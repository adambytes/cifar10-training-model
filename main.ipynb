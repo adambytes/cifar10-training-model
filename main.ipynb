{
 "cells": [
  {
   "cell_type": "code",
   "execution_count": 1,
   "metadata": {},
   "outputs": [
    {
     "name": "stdout",
     "output_type": "stream",
     "text": [
      "Files already downloaded and verified\n",
      "Files already downloaded and verified\n"
     ]
    }
   ],
   "source": [
    "import torch\n",
    "import torchvision\n",
    "import torchvision.transforms as transforms\n",
    "\n",
    "num_epochs = 2\n",
    "num_classes = 10\n",
    "batch_size = 4\n",
    "learning_rate = 0.001\n",
    "\n",
    "transform = transforms.Compose(\n",
    "    [transforms.ToTensor(), transforms.Normalize((0.5, 0.5, 0.5), (0.5, 0.5, 0.5))]\n",
    ")\n",
    "\n",
    "train_dataset = torchvision.datasets.CIFAR10(\n",
    "    root=\"./data\", train=True, download=True, transform=transform\n",
    ")\n",
    "\n",
    "train_loader = torch.utils.data.DataLoader(\n",
    "    train_dataset, batch_size=4, shuffle=True, num_workers=2\n",
    ")\n",
    "\n",
    "test_dataset = torchvision.datasets.CIFAR10(\n",
    "    root=\"./data\", train=False, download=True, transform=transform\n",
    ")\n",
    "\n",
    "test_loader = torch.utils.data.DataLoader(\n",
    "    test_dataset, batch_size=4, shuffle=False, num_workers=2\n",
    ")\n",
    "\n",
    "classes = (\n",
    "    \"plane\",\n",
    "    \"car\",\n",
    "    \"bird\",\n",
    "    \"cat\",\n",
    "    \"deer\",\n",
    "    \"dog\",\n",
    "    \"frog\",\n",
    "    \"horse\",\n",
    "    \"ship\",\n",
    "    \"truck\",\n",
    ")"
   ]
  },
  {
   "attachments": {},
   "cell_type": "markdown",
   "metadata": {},
   "source": [
    "### Defining the Neural Network"
   ]
  },
  {
   "cell_type": "code",
   "execution_count": 2,
   "metadata": {},
   "outputs": [],
   "source": [
    "import torch.nn as nn\n",
    "import torch.nn.functional as F\n",
    "\n",
    "class Net(nn.Module):\n",
    "    def __init__(self):\n",
    "        super(Net, self).__init__()\n",
    "        # layers\n",
    "        self.conv1 = nn.Conv2d(3, 6, 5) # 3 input channels, 6 output channels, 5x5 kernel\n",
    "        self.pool = nn.MaxPool2d(2, 2) # 2x2 kernel, stride 2\n",
    "        self.conv2 = nn.Conv2d(6, 16, 5) # 6 input channels, 16 output channels, 5x5 kernel\n",
    "        self.fc1 = nn.Linear(16 * 5 * 5, 120) # 16 * 5 * 5 input features, 120 output features\n",
    "        self.fc2 = nn.Linear(120, 84) # 120 input features, 84 output features\n",
    "        self.fc3 = nn.Linear(84, 10) # 84 input features, 10 output features\n",
    "\n",
    "    def forward(self, x):\n",
    "        x = self.pool(F.relu(self.conv1(x))) # conv1 -> relu -> pool\n",
    "        x = self.pool(F.relu(self.conv2(x))) # conv2 -> relu -> pool\n",
    "        x = x.view(-1, 16 * 5 * 5) # flatten\n",
    "        x = F.relu(self.fc1(x)) # fc1 -> relu\n",
    "        x = F.relu(self.fc2(x)) # fc2 -> relu\n",
    "        x = self.fc3(x) # fc3\n",
    "        return x\n",
    "    \n",
    "device = torch.device(\"cuda:0\" if torch.cuda.is_available() else \"cpu\")\n",
    "model = Net().to(device)\n",
    "#if model is on GPU, copy weights to GPU\n",
    "if device == \"cuda:0\":\n",
    "    model.cuda()\n"
   ]
  },
  {
   "cell_type": "code",
   "execution_count": 3,
   "metadata": {},
   "outputs": [],
   "source": [
    "import torch.optim as optim\n",
    "\n",
    "criterion = nn.CrossEntropyLoss() # cross entropy loss\n",
    "optimizer = optim.SGD(model.parameters(), lr=learning_rate), # SGD with momentum\n"
   ]
  },
  {
   "cell_type": "code",
   "execution_count": 4,
   "metadata": {},
   "outputs": [],
   "source": [
    "from tqdm import trange\n",
    "\n",
    "def train(model, device, train_loader, criterion, optimizer, epoch):\n",
    "    # Set the model into training mode\n",
    "    model.train()\n",
    "    # instantiate tqdm object with training data\n",
    "    pbar = trange(int(len(train_loader)), ncols = 70)\n",
    "    # Loop over each batch from the training set\n",
    "    for batch_idx, (data, targets) in enumerate(train_loader):\n",
    "        # Copy data to GPU if needed\n",
    "        data = data.to(device)\n",
    "        targets = targets.to(device)\n",
    "\n",
    "        # Zero the gradients\n",
    "        optimizer.zero_grad()\n",
    "        \n",
    "        # Forward pass\n",
    "        output = model(data)\n",
    "        \n",
    "        # Calculate loss\n",
    "        loss = criterion(output, targets)\n",
    "        \n",
    "        # Backward pass\n",
    "        loss.backward()\n",
    "        \n",
    "        # Weight update\n",
    "        optimizer.step()\n",
    "        \n",
    "\n",
    "        if batch_idx % 100 == 0:\n",
    "            pbar.update(100)\n",
    "            # Print loss (uncomment lines below once implemented)\n",
    "            pbar.set_description('Train Epoch: {} [{}/{} ({:.0f}%)]\\tLoss: {:.6f}'.format(\n",
    "                epoch, batch_idx * len(data), len(train_loader.dataset),\n",
    "                100. * batch_idx / len(train_loader), loss.item()))\n",
    "            # Save model\n",
    "            torch.save(model.state_dict(), \"model.cptk\")\n",
    "            # Save optimizer\n",
    "            torch.save(optimizer.state_dict(), \"optimizer.cptk\")\n",
    "\n",
    "    pbar.close()\n",
    "\n",
    "def test(model, device, test_loader, criterion):\n",
    "    # Set the model into evaluation mode\n",
    "    model.eval()\n",
    "    \n",
    "    # Variables for tracking loss and accuracy\n",
    "    test_loss = 0\n",
    "    correct = 0\n",
    "    \n",
    "    # Disable gradient computation\n",
    "    with torch.no_grad():\n",
    "        for data, targets in test_loader:\n",
    "            # Copy data to GPU if needed\n",
    "            data = data.to(device)\n",
    "            targets = targets.to(device)\n",
    "\n",
    "            # Forward pass\n",
    "            output = model(data)\n",
    "\n",
    "            # Update the total loss\n",
    "            test_loss += criterion(output, targets).item()\n",
    "\n",
    "            # Get the index of the max log-probability\n",
    "            pred = output.argmax(dim=1, keepdim=True)\n",
    "            correct += pred.eq(targets.view_as(pred)).sum().item()\n",
    "\n",
    "    # Compute the average test loss\n",
    "    test_loss /= len(test_loader.dataset)\n",
    "    test_accuracy = 100. * correct / len(test_loader.dataset)\n",
    "\n",
    "    # Print loss and accuracy\n",
    "    print('\\nTest set: Average loss: {:.4f}, Accuracy: {}/{} ({:.0f}%)\\n'.format(\n",
    "        test_loss, correct, len(test_loader.dataset), test_accuracy))\n"
   ]
  },
  {
   "cell_type": "code",
   "execution_count": 7,
   "metadata": {},
   "outputs": [
    {
     "name": "stdout",
     "output_type": "stream",
     "text": [
      "Error occurred while loading model or optimizer: 'tuple' object has no attribute 'load_state_dict'\n"
     ]
    },
    {
     "name": "stderr",
     "output_type": "stream",
     "text": [
      "\n",
      "\u001b[A"
     ]
    },
    {
     "ename": "AttributeError",
     "evalue": "'tuple' object has no attribute 'zero_grad'",
     "output_type": "error",
     "traceback": [
      "\u001b[0;31m---------------------------------------------------------------------------\u001b[0m",
      "\u001b[0;31mAttributeError\u001b[0m                            Traceback (most recent call last)",
      "Cell \u001b[0;32mIn[7], line 13\u001b[0m\n\u001b[1;32m      9\u001b[0m     \u001b[39mprint\u001b[39m(\u001b[39m\"\u001b[39m\u001b[39mError occurred while loading model or optimizer:\u001b[39m\u001b[39m\"\u001b[39m, \u001b[39mstr\u001b[39m(e))\n\u001b[1;32m     12\u001b[0m \u001b[39mfor\u001b[39;00m epoch \u001b[39min\u001b[39;00m \u001b[39mrange\u001b[39m(num_epochs):\n\u001b[0;32m---> 13\u001b[0m     train(model, device, train_loader, criterion, optimizer, epoch)\n\u001b[1;32m     14\u001b[0m     test(model, device, test_loader, criterion)\n",
      "Cell \u001b[0;32mIn[4], line 15\u001b[0m, in \u001b[0;36mtrain\u001b[0;34m(model, device, train_loader, criterion, optimizer, epoch)\u001b[0m\n\u001b[1;32m     12\u001b[0m targets \u001b[39m=\u001b[39m targets\u001b[39m.\u001b[39mto(device)\n\u001b[1;32m     14\u001b[0m \u001b[39m# Zero the gradients\u001b[39;00m\n\u001b[0;32m---> 15\u001b[0m optimizer\u001b[39m.\u001b[39;49mzero_grad()\n\u001b[1;32m     17\u001b[0m \u001b[39m# Forward pass\u001b[39;00m\n\u001b[1;32m     18\u001b[0m output \u001b[39m=\u001b[39m model(data)\n",
      "\u001b[0;31mAttributeError\u001b[0m: 'tuple' object has no attribute 'zero_grad'"
     ]
    }
   ],
   "source": [
    "\n",
    "# if there is saved model or optimizer, load it\n",
    "try:\n",
    "    model.load_state_dict(torch.load(\"model.cptk\"))\n",
    "    optimizer.load_state_dict(torch.load(\"optimizer.cptk\")[0])\n",
    "    print(\"Loaded model and optimizer\")\n",
    "except FileNotFoundError:\n",
    "    print(\"No model or optimizer found\")\n",
    "except Exception as e:\n",
    "    print(\"Error occurred while loading model or optimizer:\", str(e))\n",
    "\n",
    "\n",
    "for epoch in range(num_epochs):\n",
    "    train(model, device, train_loader, criterion, optimizer, epoch)\n",
    "    test(model, device, test_loader, criterion)\n"
   ]
  }
 ],
 "metadata": {
  "kernelspec": {
   "display_name": "directml",
   "language": "python",
   "name": "python3"
  },
  "language_info": {
   "codemirror_mode": {
    "name": "ipython",
    "version": 3
   },
   "file_extension": ".py",
   "mimetype": "text/x-python",
   "name": "python",
   "nbconvert_exporter": "python",
   "pygments_lexer": "ipython3",
   "version": "3.10.11"
  },
  "orig_nbformat": 4
 },
 "nbformat": 4,
 "nbformat_minor": 2
}
